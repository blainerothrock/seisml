{
 "cells": [
  {
   "cell_type": "markdown",
   "metadata": {},
   "source": [
    "# Notebook Downloading Mars Seismic Data, Splitting Windows\n",
    "This notebook downloads mseed data from IRIS and splits it into 12 second windows sliding by 3 seconds"
   ]
  },
  {
   "cell_type": "code",
   "execution_count": 1,
   "metadata": {},
   "outputs": [],
   "source": [
    "%config IPCompleter.greedy=True\n",
    "%matplotlib inline\n",
    "\n",
    "import csv, json, os, sys\n",
    "import requests\n",
    "from time import sleep\n",
    "\n",
    "import obspy\n",
    "from obspy import read\n",
    "\n",
    "from obspy.core.event import read_events\n",
    "from obspy import read_inventory\n",
    "from datetime import datetime, timedelta\n",
    "from obspy.core import UTCDateTime\n",
    "\n",
    "\n",
    "DATA_PATH = os.path.expanduser('~/dev/seisml/experiments/mars_insight_clustering/.data/')"
   ]
  },
  {
   "cell_type": "markdown",
   "metadata": {},
   "source": [
    "## Download and Sample\n",
    "the following:\n",
    "* net=XB\n",
    "* sta=ELYSE\n",
    "* cha=BHU,BHV,BHW\n",
    "* loc=02"
   ]
  },
  {
   "cell_type": "code",
   "execution_count": 3,
   "metadata": {},
   "outputs": [],
   "source": [
    "def download_data_availability(data_path=DATA_PATH):\n",
    "    try:\n",
    "        os.makedirs(data_path)\n",
    "    except FileExistsError:\n",
    "        pass\n",
    "    \n",
    "    payload = {\n",
    "        'option': 'com_ajax',\n",
    "        'data': 'ELYSE',\n",
    "        'format': 'json',\n",
    "        'module': 'seis_data_available'\n",
    "    }\n",
    "    r = requests.post('https://www.seis-insight.eu/en/science/seis-data/seis-data-availability', payload)\n",
    "    with open(os.path.join(data_path, 'data_availability.json'), 'wb') as f:\n",
    "        f.write(r.content)"
   ]
  },
  {
   "cell_type": "code",
   "execution_count": 4,
   "metadata": {},
   "outputs": [],
   "source": [
    "download_data_availability()"
   ]
  },
  {
   "cell_type": "code",
   "execution_count": 5,
   "metadata": {},
   "outputs": [],
   "source": [
    "with open(os.path.join(DATA_PATH, 'data_availability.json'), 'r') as f:\n",
    "    raw_ava = json.load(f)"
   ]
  },
  {
   "cell_type": "code",
   "execution_count": 6,
   "metadata": {},
   "outputs": [],
   "source": [
    "ava = []\n",
    "for t in raw_ava['data']:\n",
    "    if t['network'] == 'XB' and t['location'] == '02' and t['channel'] == 'BHU':\n",
    "        ava.append(t)"
   ]
  },
  {
   "cell_type": "code",
   "execution_count": 7,
   "metadata": {},
   "outputs": [
    {
     "data": {
      "text/plain": [
       "{'network': 'XB',\n",
       " 'station': 'ELYSE',\n",
       " 'location': '02',\n",
       " 'channel': 'BHU',\n",
       " 'startTime': '2019-02-12T02:43:01.313000',\n",
       " 'endTime': '2019-02-12T04:14:37.259000',\n",
       " 'sampleRate': '20',\n",
       " 'quality': 'R'}"
      ]
     },
     "execution_count": 7,
     "metadata": {},
     "output_type": "execute_result"
    }
   ],
   "source": [
    "ava[0]"
   ]
  },
  {
   "cell_type": "markdown",
   "metadata": {},
   "source": [
    "example data req: `http://ws.ipgp.fr/fdsnws/dataselect/1/query?network=XB&amp;station=ELYSE&amp;startTime=2019-02-12T02:43:01&amp;endTime=2019-02-12T04:14:38&amp;location=02&amp;channel=BH?&amp;nodata=404`"
   ]
  },
  {
   "cell_type": "code",
   "execution_count": 8,
   "metadata": {},
   "outputs": [],
   "source": [
    "def download_mseed(event, channel='BH?', data_path=DATA_PATH + 'raw/'):\n",
    "    try:\n",
    "        os.makedirs(data_path)\n",
    "    except FileExistsError:\n",
    "        pass\n",
    "\n",
    "    payload = {\n",
    "        'network': event['network'],\n",
    "        'station': event['station'],\n",
    "        'startTime': event['startTime'],\n",
    "        'endTime': event['endTime'],\n",
    "        'location': event['location'],\n",
    "        'channel': channel\n",
    "    }\n",
    "    \n",
    "    req = requests.get('http://ws.ipgp.fr/fdsnws/dataselect/1/query', params=payload)\n",
    "    file_name = '-'.join([event['network'], event['station'], event['location'], event['startTime'], event['endTime']]) + '.mseed'\n",
    "    print('downloading: %s' % file_name)\n",
    "    path = os.path.join(data_path, file_name)\n",
    "    with open(path, 'wb') as c:\n",
    "        c.write(req.content)\n",
    "    return path"
   ]
  },
  {
   "cell_type": "code",
   "execution_count": 9,
   "metadata": {},
   "outputs": [
    {
     "name": "stdout",
     "output_type": "stream",
     "text": [
      "downloading: XB-ELYSE-02-2019-02-12T02:43:01.313000-2019-02-12T04:14:37.259000.mseed\n",
      "downloading: XB-ELYSE-02-2019-02-12T06:39:54.299000-2019-02-12T07:10:02.247000.mseed\n",
      "downloading: XB-ELYSE-02-2019-02-15T08:14:08.907000-2019-02-15T08:42:48.854000.mseed\n",
      "downloading: XB-ELYSE-02-2019-02-19T11:56:36.366000-2019-02-20T12:36:19.190000.mseed\n",
      "downloading: XB-ELYSE-02-2019-02-25T06:48:00.718000-2019-02-25T06:52:21.668000.mseed\n",
      "downloading: XB-ELYSE-02-2019-02-28T07:48:10.343000-2019-02-28T07:57:28.292000.mseed\n",
      "downloading: XB-ELYSE-02-2019-02-28T11:59:55.327000-2019-03-01T04:04:14.200000.mseed\n",
      "downloading: XB-ELYSE-02-2019-03-01T00:00:04.781000-2019-03-01T00:00:10.231000.mseed\n",
      "downloading: XB-ELYSE-02-2019-03-01T08:17:33.222000-2019-03-01T14:18:31.170000.mseed\n",
      "downloading: XB-ELYSE-02-2019-03-01T14:52:03.222000-2019-03-02T05:48:00.129000.mseed\n",
      "downloading: XB-ELYSE-02-2019-03-02T06:19:20.175000-2019-03-03T05:24:54.997000.mseed\n",
      "downloading: XB-ELYSE-02-2019-03-03T16:56:00.030000-2019-03-04T14:26:10.897000.mseed\n",
      "downloading: XB-ELYSE-02-2019-03-04T00:00:04.715000-2019-03-04T00:00:09.965000.mseed\n",
      "downloading: XB-ELYSE-02-2019-03-04T16:18:32.958000-2019-03-05T17:00:43.809000.mseed\n",
      "downloading: XB-ELYSE-02-2019-03-05T17:06:27.859000-2019-03-07T00:00:02.727000.mseed\n",
      "downloading: XB-ELYSE-02-2019-03-06T00:00:08.460000-2019-03-06T00:00:10.810000.mseed\n",
      "downloading: XB-ELYSE-02-2019-03-12T14:51:17.134000-2019-03-12T14:56:09.083000.mseed\n",
      "downloading: XB-ELYSE-02-2019-03-12T17:57:53.116000-2019-03-12T18:23:04.062000.mseed\n",
      "downloading: XB-ELYSE-02-2019-03-13T00:00:00.098000-2019-03-14T00:00:01.915000.mseed\n",
      "downloading: XB-ELYSE-02-2019-03-14T14:59:28.864000-2019-03-14T20:31:12.784000.mseed\n",
      "downloading: XB-ELYSE-02-2019-03-14T15:05:12.864000-2019-03-14T15:22:32.812000.mseed\n",
      "downloading: XB-ELYSE-02-2019-03-14T20:29:28.833000-2019-03-14T21:30:20.777000.mseed\n",
      "downloading: XB-ELYSE-02-2019-03-14T21:28:36.827000-2019-03-15T15:00:47.669000.mseed\n",
      "downloading: XB-ELYSE-02-2019-03-16T23:59:27.554000-2019-03-18T16:00:02.286000.mseed\n",
      "downloading: XB-ELYSE-02-2019-03-22T19:32:38.762000-2019-03-22T19:42:10.711000.mseed\n",
      "downloading: XB-ELYSE-02-2019-03-22T21:17:22.749000-2019-03-22T21:26:02.698000.mseed\n",
      "downloading: XB-ELYSE-02-2019-03-23T21:45:23.615000-2019-03-23T22:00:59.564000.mseed\n",
      "downloading: XB-ELYSE-02-2019-03-24T00:11:55.601000-2019-03-24T00:27:31.550000.mseed\n",
      "downloading: XB-ELYSE-02-2019-03-24T23:40:54.479000-2019-03-24T23:47:50.429000.mseed\n",
      "downloading: XB-ELYSE-02-2019-03-25T01:18:42.472000-2019-03-25T01:25:38.421000.mseed\n",
      "downloading: XB-ELYSE-02-2019-03-25T22:41:03.386000-2019-03-25T22:52:51.334000.mseed\n",
      "downloading: XB-ELYSE-02-2019-03-26T01:07:35.372000-2019-03-26T01:19:23.322000.mseed\n",
      "downloading: XB-ELYSE-02-2019-03-26T05:59:34.359000-2019-03-26T07:00:26.310000.mseed\n",
      "downloading: XB-ELYSE-02-2019-03-26T20:42:13.279000-2019-03-26T20:50:53.228000.mseed\n",
      "downloading: XB-ELYSE-02-2019-03-26T23:52:34.255000-2019-03-27T00:14:46.203000.mseed\n",
      "downloading: XB-ELYSE-02-2019-03-27T00:49:58.248000-2019-03-27T01:02:38.197000.mseed\n",
      "downloading: XB-ELYSE-02-2019-03-28T01:59:12.155000-2019-03-28T02:06:08.105000.mseed\n",
      "downloading: XB-ELYSE-02-2019-03-28T23:10:19.084000-2019-03-28T23:16:24.034000.mseed\n",
      "downloading: XB-ELYSE-02-2019-04-02T02:38:11.564000-2019-04-02T02:49:27.513000.mseed\n",
      "downloading: XB-ELYSE-02-2019-04-03T04:21:44.416000-2019-04-03T04:27:48.365000.mseed\n",
      "downloading: XB-ELYSE-02-2019-04-06T06:28:14.985000-2019-04-06T06:31:42.935000.mseed\n",
      "downloading: XB-ELYSE-02-2019-04-06T17:37:43.957000-2019-04-07T05:58:19.825000.mseed\n",
      "downloading: XB-ELYSE-02-2019-04-07T05:56:35.875000-2019-04-07T18:18:08.804000.mseed\n",
      "downloading: XB-ELYSE-02-2019-04-07T08:29:13.860000-2019-04-07T11:00:05.803000.mseed\n",
      "downloading: XB-ELYSE-02-2019-04-07T18:16:24.853000-2019-04-08T06:38:31.736000.mseed\n",
      "downloading: XB-ELYSE-02-2019-04-08T06:36:47.785000-2019-04-08T18:58:07.681000.mseed\n",
      "downloading: XB-ELYSE-02-2019-04-09T07:02:11.649000-2019-04-09T08:03:03.591000.mseed\n",
      "downloading: XB-ELYSE-02-2019-04-09T10:39:07.626000-2019-04-09T10:53:51.574000.mseed\n",
      "downloading: XB-ELYSE-02-2019-04-10T00:52:24.541000-2019-04-10T02:23:51.491000.mseed\n",
      "downloading: XB-ELYSE-02-2019-04-11T11:59:52.324000-2019-04-11T14:00:39.272000.mseed\n",
      "downloading: XB-ELYSE-02-2019-04-12T05:59:37.245000-2019-04-13T05:30:53.109000.mseed\n",
      "downloading: XB-ELYSE-02-2019-04-12T09:48:21.221000-2019-04-12T09:53:33.171000.mseed\n",
      "downloading: XB-ELYSE-02-2019-04-12T11:31:21.213000-2019-04-12T11:35:41.163000.mseed\n",
      "downloading: XB-ELYSE-02-2019-04-13T05:29:09.159000-2019-04-13T07:30:53.095000.mseed\n",
      "downloading: XB-ELYSE-02-2019-04-13T14:07:49.102000-2019-04-13T14:17:21.051000.mseed\n",
      "downloading: XB-ELYSE-02-2019-04-14T13:50:17.978000-2019-04-14T13:55:29.928000.mseed\n",
      "downloading: XB-ELYSE-02-2019-04-17T13:03:26.675000-2019-04-17T13:09:30.624000.mseed\n",
      "downloading: XB-ELYSE-02-2019-04-17T15:10:22.668000-2019-04-17T15:16:58.618000.mseed\n",
      "downloading: XB-ELYSE-02-2019-04-19T13:12:13.534000-2019-04-19T14:05:30.479000.mseed\n",
      "downloading: XB-ELYSE-02-2019-04-20T13:09:34.435000-2019-04-20T13:14:46.384000.mseed\n",
      "downloading: XB-ELYSE-02-2019-04-20T13:46:59.431000-2019-04-20T13:53:03.380000.mseed\n",
      "downloading: XB-ELYSE-02-2019-04-27T18:41:23.571000-2019-04-27T18:50:55.520000.mseed\n",
      "downloading: XB-ELYSE-02-2019-05-01T18:59:49.095000-2019-05-02T19:00:13.912000.mseed\n",
      "downloading: XB-ELYSE-02-2019-05-03T18:59:35.827000-2019-05-04T19:00:10.636000.mseed\n",
      "downloading: XB-ELYSE-02-2019-05-11T02:48:23.854000-2019-05-11T03:03:59.802000.mseed\n",
      "downloading: XB-ELYSE-02-2019-05-12T06:36:12.703000-2019-05-12T06:48:52.652000.mseed\n",
      "downloading: XB-ELYSE-02-2019-05-13T04:33:20.606000-2019-05-13T05:09:23.551000.mseed\n",
      "downloading: XB-ELYSE-02-2019-05-14T03:05:06.528000-2019-05-14T03:12:34.477000.mseed\n",
      "downloading: XB-ELYSE-02-2019-05-15T06:48:22.367000-2019-05-15T07:03:38.316000.mseed\n",
      "downloading: XB-ELYSE-02-2019-05-16T07:54:38.244000-2019-05-16T08:46:50.188000.mseed\n",
      "downloading: XB-ELYSE-02-2019-05-17T07:50:21.116000-2019-05-17T07:54:41.066000.mseed\n",
      "downloading: XB-ELYSE-02-2019-05-17T16:19:49.076000-2019-05-17T17:40:17.022000.mseed\n",
      "downloading: XB-ELYSE-02-2019-05-17T19:09:25.065000-2019-05-17T20:10:17.009000.mseed\n",
      "downloading: XB-ELYSE-02-2019-05-18T06:38:32.983000-2019-05-18T06:47:12.933000.mseed\n",
      "downloading: XB-ELYSE-02-2019-05-18T07:55:00.978000-2019-05-18T10:20:12.916000.mseed\n",
      "downloading: XB-ELYSE-02-2019-05-19T08:01:51.867000-2019-05-19T08:06:11.817000.mseed\n",
      "downloading: XB-ELYSE-02-2019-05-20T07:20:04.755000-2019-05-20T07:28:24.705000.mseed\n",
      "downloading: XB-ELYSE-02-2019-05-20T12:12:24.729000-2019-05-20T12:21:56.679000.mseed\n",
      "downloading: XB-ELYSE-02-2019-05-21T08:38:02.625000-2019-05-21T08:40:18.575000.mseed\n",
      "downloading: XB-ELYSE-02-2019-05-21T11:23:24.602000-2019-05-21T11:37:16.550000.mseed\n",
      "downloading: XB-ELYSE-02-2019-05-22T11:37:40.485000-2019-05-22T12:38:32.430000.mseed\n",
      "downloading: XB-ELYSE-02-2019-05-22T17:59:37.464000-2019-05-23T20:00:02.288000.mseed\n",
      "downloading: XB-ELYSE-02-2019-05-23T10:18:31.375000-2019-05-23T10:23:43.325000.mseed\n",
      "downloading: XB-ELYSE-02-2019-05-26T13:32:29.981000-2019-05-26T14:35:57.924000.mseed\n",
      "downloading: XB-ELYSE-02-2019-05-27T13:42:36.846000-2019-05-27T16:55:49.772000.mseed\n",
      "downloading: XB-ELYSE-02-2019-05-28T17:19:07.704000-2019-05-28T17:36:27.653000.mseed\n",
      "downloading: XB-ELYSE-02-2019-05-29T14:49:21.596000-2019-05-29T15:06:41.544000.mseed\n",
      "downloading: XB-ELYSE-02-2019-05-30T16:46:51.468000-2019-05-30T16:59:51.418000.mseed\n",
      "downloading: XB-ELYSE-02-2019-06-01T12:24:11.219000-2019-06-02T18:22:47.013000.mseed\n",
      "downloading: XB-ELYSE-02-2019-06-02T18:25:16.062000-2019-06-19T02:21:57.780000.mseed\n",
      "downloading: XB-ELYSE-02-2019-06-19T04:22:25.822000-2019-07-07T20:37:59.153000.mseed\n",
      "downloading: XB-ELYSE-02-2019-07-07T20:40:28.203000-2019-07-17T22:21:52.755000.mseed\n",
      "downloading: XB-ELYSE-02-2019-07-17T22:29:40.804000-2019-07-22T01:56:38.191000.mseed\n",
      "downloading: XB-ELYSE-02-2019-07-22T02:08:46.239000-2019-07-22T17:57:13.080000.mseed\n",
      "downloading: XB-ELYSE-02-2019-07-22T23:17:01.105000-2019-07-31T18:44:52.812000.mseed\n",
      "downloading: XB-ELYSE-02-2019-07-31T19:03:04.859000-2019-08-08T06:44:01.799000.mseed\n",
      "downloading: XB-ELYSE-02-2019-08-08T06:56:09.848000-2019-08-08T16:17:45.760000.mseed\n",
      "downloading: XB-ELYSE-02-2019-08-08T16:20:13.809000-2019-08-14T20:42:06.886000.mseed\n",
      "downloading: XB-ELYSE-02-2019-08-14T20:55:58.934000-2019-08-15T09:42:18.796000.mseed\n",
      "downloading: XB-ELYSE-02-2019-08-15T09:58:46.844000-2019-08-21T20:49:05.871000.mseed\n",
      "downloading: XB-ELYSE-02-2019-08-22T00:00:11.202000-2019-08-25T04:00:53.459000.mseed\n",
      "downloading: XB-ELYSE-02-2019-08-23T00:00:08.308000-2019-08-23T00:00:18.758000.mseed\n",
      "downloading: XB-ELYSE-02-2019-08-25T00:00:05.691000-2019-08-25T00:00:53.491000.mseed\n",
      "downloading: XB-ELYSE-02-2019-08-25T03:59:09.509000-2019-08-28T08:04:32.103000.mseed\n",
      "downloading: XB-ELYSE-02-2019-08-26T00:00:04.256000-2019-08-26T00:00:34.356000.mseed\n",
      "downloading: XB-ELYSE-02-2019-09-18T23:09:24.679000-2019-09-23T14:30:23.038000.mseed\n",
      "downloading: XB-ELYSE-02-2019-09-23T14:42:31.088000-2019-09-25T21:14:56.753000.mseed\n",
      "downloading: XB-ELYSE-02-2019-09-25T21:27:04.801000-2019-09-26T03:13:00.719000.mseed\n",
      "downloading: XB-ELYSE-02-2019-09-26T03:14:25.769000-2019-09-27T11:14:11.519000.mseed\n",
      "downloading: XB-ELYSE-02-2019-09-27T11:29:47.567000-2019-09-30T00:55:52.266000.mseed\n",
      "downloading: XB-ELYSE-02-2019-09-30T01:08:52.314000-2019-10-03T00:12:25.916000.mseed\n",
      "downloading: XB-ELYSE-02-2019-10-03T00:24:33.965000-2019-10-09T07:55:09.078000.mseed\n",
      "downloading: XB-ELYSE-02-2019-10-09T07:57:38.127000-2019-10-09T07:57:58.037000.mseed\n",
      "downloading: XB-ELYSE-02-2019-10-09T09:48:16.076000-2019-10-12T10:28:53.697000.mseed\n",
      "downloading: XB-ELYSE-02-2019-10-12T10:31:21.748000-2019-10-12T10:31:42.658000.mseed\n",
      "downloading: XB-ELYSE-02-2019-10-12T11:49:04.680000-2019-10-16T13:07:14.178000.mseed\n",
      "downloading: XB-ELYSE-02-2019-10-16T13:09:42.227000-2019-10-16T13:10:03.137000.mseed\n",
      "downloading: XB-ELYSE-02-2019-10-16T14:27:26.181000-2019-10-16T23:54:19.099000.mseed\n",
      "downloading: XB-ELYSE-02-2019-10-17T00:13:23.148000-2019-10-19T15:06:20.821000.mseed\n",
      "downloading: XB-ELYSE-02-2019-10-19T16:23:43.864000-2019-10-19T16:24:25.854000.mseed\n",
      "downloading: XB-ELYSE-02-2019-10-19T16:26:54.905000-2019-10-21T17:37:31.589000.mseed\n",
      "downloading: XB-ELYSE-02-2019-10-21T17:40:00.638000-2019-10-23T17:44:41.272000.mseed\n",
      "downloading: XB-ELYSE-02-2019-10-23T19:02:04.306000-2019-10-23T19:02:47.296000.mseed\n",
      "downloading: XB-ELYSE-02-2019-10-23T19:05:16.345000-2019-10-26T15:34:45.900000.mseed\n",
      "downloading: XB-ELYSE-02-2019-10-26T20:52:00.919000-2019-10-26T20:52:43.909000.mseed\n",
      "downloading: XB-ELYSE-02-2019-10-26T20:55:11.959000-2019-11-17T09:22:52.983000.mseed\n",
      "downloading: XB-ELYSE-02-2019-11-17T10:39:33.028000-2019-11-17T10:40:16.018000.mseed\n",
      "downloading: XB-ELYSE-02-2019-11-17T10:42:44.068000-2019-11-20T11:33:31.537000.mseed\n",
      "downloading: XB-ELYSE-02-2019-11-20T12:50:53.573000-2019-11-20T12:51:36.563000.mseed\n",
      "downloading: XB-ELYSE-02-2019-11-20T12:54:04.612000-2019-11-22T00:23:59.352000.mseed\n",
      "downloading: XB-ELYSE-02-2019-11-22T00:39:35.400000-2019-11-22T13:12:55.285000.mseed\n",
      "downloading: XB-ELYSE-02-2019-11-22T13:15:24.335000-2019-11-27T16:46:04.577000.mseed\n",
      "downloading: XB-ELYSE-02-2019-11-27T17:02:32.625000-2019-12-07T22:46:30.128000.mseed\n",
      "downloading: XB-ELYSE-02-2019-12-08T00:03:53.157000-2019-12-08T00:04:36.148000.mseed\n",
      "downloading: XB-ELYSE-02-2019-12-08T00:07:05.197000-2019-12-11T09:32:08.678000.mseed\n",
      "downloading: XB-ELYSE-02-2019-12-11T09:52:56.725000-2019-12-11T19:12:24.642000.mseed\n",
      "downloading: XB-ELYSE-02-2019-12-11T19:22:48.691000-2019-12-15T03:05:57.168000.mseed\n",
      "downloading: XB-ELYSE-02-2019-12-15T04:39:19.209000-2019-12-15T04:40:01.199000.mseed\n",
      "downloading: XB-ELYSE-02-2019-12-15T04:42:30.249000-2019-12-22T07:43:04.202000.mseed\n",
      "downloading: XB-ELYSE-02-2019-12-22T09:15:07.245000-2019-12-22T09:15:50.235000.mseed\n",
      "downloading: XB-ELYSE-02-2019-12-22T09:18:18.285000-2019-12-23T09:00:35.094000.mseed\n",
      "downloading: XB-ELYSE-02-2019-12-23T09:03:04.144000-2019-12-27T14:58:05.518000.mseed\n",
      "downloading: XB-ELYSE-02-2019-12-27T15:05:01.566000-2019-12-29T04:12:09.298000.mseed\n",
      "downloading: XB-ELYSE-02-2019-12-29T04:25:09.347000-2019-12-30T05:41:47.153000.mseed\n",
      "downloading: XB-ELYSE-02-2019-12-30T05:54:47.202000-2019-12-31T23:59:59.982000.mseed\n"
     ]
    }
   ],
   "source": [
    "# download all examples:\n",
    "for event in ava:\n",
    "    download_mseed(event)\n",
    "    sleep(0.1)"
   ]
  },
  {
   "cell_type": "code",
   "execution_count": 5,
   "metadata": {},
   "outputs": [
    {
     "ename": "NameError",
     "evalue": "name 'ava' is not defined",
     "output_type": "error",
     "traceback": [
      "\u001B[0;31m---------------------------------------------------------------------------\u001B[0m",
      "\u001B[0;31mNameError\u001B[0m                                 Traceback (most recent call last)",
      "\u001B[0;32m<ipython-input-5-bcb5ac9b7659>\u001B[0m in \u001B[0;36m<module>\u001B[0;34m\u001B[0m\n\u001B[1;32m      1\u001B[0m \u001B[0;32mwith\u001B[0m \u001B[0mopen\u001B[0m\u001B[0;34m(\u001B[0m\u001B[0mos\u001B[0m\u001B[0;34m.\u001B[0m\u001B[0mpath\u001B[0m\u001B[0;34m.\u001B[0m\u001B[0mjoin\u001B[0m\u001B[0;34m(\u001B[0m\u001B[0mDATA_PATH\u001B[0m \u001B[0;34m+\u001B[0m \u001B[0;34m'raw/'\u001B[0m\u001B[0;34m,\u001B[0m \u001B[0;34m'catelog.json'\u001B[0m\u001B[0;34m)\u001B[0m\u001B[0;34m,\u001B[0m \u001B[0;34m'w'\u001B[0m\u001B[0;34m)\u001B[0m \u001B[0;32mas\u001B[0m \u001B[0mf\u001B[0m\u001B[0;34m:\u001B[0m\u001B[0;34m\u001B[0m\u001B[0;34m\u001B[0m\u001B[0m\n\u001B[0;32m----> 2\u001B[0;31m     \u001B[0mjson\u001B[0m\u001B[0;34m.\u001B[0m\u001B[0mdump\u001B[0m\u001B[0;34m(\u001B[0m\u001B[0mava\u001B[0m\u001B[0;34m,\u001B[0m \u001B[0mf\u001B[0m\u001B[0;34m)\u001B[0m\u001B[0;34m\u001B[0m\u001B[0;34m\u001B[0m\u001B[0m\n\u001B[0m\u001B[1;32m      3\u001B[0m \u001B[0;34m\u001B[0m\u001B[0m\n",
      "\u001B[0;31mNameError\u001B[0m: name 'ava' is not defined"
     ]
    }
   ],
   "source": [
    "with open(os.path.join(DATA_PATH + 'raw/', 'catelog.json'), 'w') as f:\n",
    "    json.dump(ava, f)"
   ]
  },
  {
   "cell_type": "code",
   "execution_count": 6,
   "metadata": {},
   "outputs": [
    {
     "name": "stdout",
     "output_type": "stream",
     "text": [
      "num of files: 145\n"
     ]
    }
   ],
   "source": [
    "file_names = list(filter(lambda f: os.path.splitext(f)[1] == '.mseed', os.listdir(DATA_PATH + 'raw/')))\n",
    "print('num of files: %i' % len(file_names))"
   ]
  },
  {
   "cell_type": "code",
   "execution_count": 7,
   "metadata": {},
   "outputs": [],
   "source": [
    "streams = []\n",
    "for file in file_names:\n",
    "    streams.append(obspy.read(os.path.join(DATA_PATH + 'raw/', file)))"
   ]
  },
  {
   "cell_type": "code",
   "execution_count": 15,
   "metadata": {
    "pycharm": {
     "name": "#%%\n"
    }
   },
   "outputs": [
    {
     "data": {
      "text/plain": [
       "1 Trace(s) in Stream:\n",
       "XB.ELYSE.02. | 2019-04-17T15:10:22.668000Z - 2019-04-17T15:16:58.618000Z | 20.0 Hz, 7920 samples"
      ]
     },
     "execution_count": 15,
     "metadata": {},
     "output_type": "execute_result"
    }
   ],
   "source": [
    "streams[4]"
   ]
  },
  {
   "cell_type": "markdown",
   "metadata": {},
   "source": [
    "As some streams have more than 3 traces (in multiples of 3), we must go through each stream, cut each trace, and rejoin traces to their matching other 2 traces. This is accomplished in the following. "
   ]
  },
  {
   "cell_type": "markdown",
   "metadata": {
    "pycharm": {
     "name": "#%% md\n"
    }
   },
   "source": [
    "This next box is a test for a stream with a small time frame in order to ensure the code works. "
   ]
  },
  {
   "cell_type": "code",
   "execution_count": 19,
   "metadata": {
    "pycharm": {
     "name": "#%%\n"
    }
   },
   "outputs": [
    {
     "ename": "KeyboardInterrupt",
     "evalue": "",
     "output_type": "error",
     "traceback": [
      "\u001B[0;31m---------------------------------------------------------------------------\u001B[0m",
      "\u001B[0;31mKeyboardInterrupt\u001B[0m                         Traceback (most recent call last)",
      "\u001B[0;32m<ipython-input-19-8740b6f80741>\u001B[0m in \u001B[0;36m<module>\u001B[0;34m\u001B[0m\n\u001B[1;32m      5\u001B[0m     \u001B[0mend\u001B[0m \u001B[0;34m=\u001B[0m \u001B[0mUTCDateTime\u001B[0m\u001B[0;34m(\u001B[0m\u001B[0mtrace\u001B[0m\u001B[0;34m.\u001B[0m\u001B[0mstats\u001B[0m\u001B[0;34m.\u001B[0m\u001B[0mendtime\u001B[0m\u001B[0;34m)\u001B[0m\u001B[0;34m\u001B[0m\u001B[0;34m\u001B[0m\u001B[0m\n\u001B[1;32m      6\u001B[0m     \u001B[0;32mwhile\u001B[0m \u001B[0mstart\u001B[0m \u001B[0;34m+\u001B[0m \u001B[0;36m12\u001B[0m \u001B[0;34m<\u001B[0m \u001B[0mend\u001B[0m\u001B[0;34m:\u001B[0m\u001B[0;34m\u001B[0m\u001B[0;34m\u001B[0m\u001B[0m\n\u001B[0;32m----> 7\u001B[0;31m         \u001B[0msliced\u001B[0m\u001B[0;34m.\u001B[0m\u001B[0mappend\u001B[0m\u001B[0;34m(\u001B[0m\u001B[0;34m(\u001B[0m\u001B[0mtrace\u001B[0m\u001B[0;34m.\u001B[0m\u001B[0mslice\u001B[0m\u001B[0;34m(\u001B[0m\u001B[0mstart\u001B[0m\u001B[0;34m,\u001B[0m\u001B[0mstart\u001B[0m\u001B[0;34m+\u001B[0m\u001B[0;36m12\u001B[0m\u001B[0;34m)\u001B[0m\u001B[0;34m)\u001B[0m\u001B[0;34m)\u001B[0m\u001B[0;34m\u001B[0m\u001B[0;34m\u001B[0m\u001B[0m\n\u001B[0m\u001B[1;32m      8\u001B[0m         \u001B[0mstart\u001B[0m \u001B[0;34m=\u001B[0m \u001B[0mstart\u001B[0m\u001B[0;34m+\u001B[0m\u001B[0;36m3\u001B[0m\u001B[0;34m\u001B[0m\u001B[0;34m\u001B[0m\u001B[0m\n\u001B[1;32m      9\u001B[0m \u001B[0;32mfor\u001B[0m \u001B[0maSlice\u001B[0m \u001B[0;32min\u001B[0m \u001B[0msliced\u001B[0m\u001B[0;34m:\u001B[0m\u001B[0;34m\u001B[0m\u001B[0;34m\u001B[0m\u001B[0m\n",
      "\u001B[0;32m/usr/local/anaconda3/envs/earthquakes/lib/python3.7/site-packages/obspy/core/trace.py\u001B[0m in \u001B[0;36mslice\u001B[0;34m(self, starttime, endtime, nearest_sample)\u001B[0m\n\u001B[1;32m   1227\u001B[0m         \u001B[0mtr\u001B[0m\u001B[0;34m.\u001B[0m\u001B[0mstats\u001B[0m \u001B[0;34m=\u001B[0m \u001B[0mdeepcopy\u001B[0m\u001B[0;34m(\u001B[0m\u001B[0mself\u001B[0m\u001B[0;34m.\u001B[0m\u001B[0mstats\u001B[0m\u001B[0;34m)\u001B[0m\u001B[0;34m\u001B[0m\u001B[0;34m\u001B[0m\u001B[0m\n\u001B[1;32m   1228\u001B[0m         tr.trim(starttime=starttime, endtime=endtime,\n\u001B[0;32m-> 1229\u001B[0;31m                 nearest_sample=nearest_sample)\n\u001B[0m\u001B[1;32m   1230\u001B[0m         \u001B[0;32mreturn\u001B[0m \u001B[0mtr\u001B[0m\u001B[0;34m\u001B[0m\u001B[0;34m\u001B[0m\u001B[0m\n\u001B[1;32m   1231\u001B[0m \u001B[0;34m\u001B[0m\u001B[0m\n",
      "\u001B[0;32m</Users/blaine/.local/lib/python3.7/site-packages/decorator.py:decorator-gen-131>\u001B[0m in \u001B[0;36mtrim\u001B[0;34m(self, starttime, endtime, pad, nearest_sample, fill_value)\u001B[0m\n",
      "\u001B[0;32m/usr/local/anaconda3/envs/earthquakes/lib/python3.7/site-packages/obspy/core/trace.py\u001B[0m in \u001B[0;36m_add_processing_info\u001B[0;34m(func, *args, **kwargs)\u001B[0m\n\u001B[1;32m    271\u001B[0m     \u001B[0minfo\u001B[0m \u001B[0;34m=\u001B[0m \u001B[0minfo\u001B[0m \u001B[0;34m%\u001B[0m \u001B[0;34m\"::\"\u001B[0m\u001B[0;34m.\u001B[0m\u001B[0mjoin\u001B[0m\u001B[0;34m(\u001B[0m\u001B[0marguments\u001B[0m\u001B[0;34m)\u001B[0m\u001B[0;34m\u001B[0m\u001B[0;34m\u001B[0m\u001B[0m\n\u001B[1;32m    272\u001B[0m     \u001B[0mself\u001B[0m \u001B[0;34m=\u001B[0m \u001B[0margs\u001B[0m\u001B[0;34m[\u001B[0m\u001B[0;36m0\u001B[0m\u001B[0;34m]\u001B[0m\u001B[0;34m\u001B[0m\u001B[0;34m\u001B[0m\u001B[0m\n\u001B[0;32m--> 273\u001B[0;31m     \u001B[0mresult\u001B[0m \u001B[0;34m=\u001B[0m \u001B[0mfunc\u001B[0m\u001B[0;34m(\u001B[0m\u001B[0;34m*\u001B[0m\u001B[0margs\u001B[0m\u001B[0;34m,\u001B[0m \u001B[0;34m**\u001B[0m\u001B[0mkwargs\u001B[0m\u001B[0;34m)\u001B[0m\u001B[0;34m\u001B[0m\u001B[0;34m\u001B[0m\u001B[0m\n\u001B[0m\u001B[1;32m    274\u001B[0m     \u001B[0;31m# Attach after executing the function to avoid having it attached\u001B[0m\u001B[0;34m\u001B[0m\u001B[0;34m\u001B[0m\u001B[0;34m\u001B[0m\u001B[0m\n\u001B[1;32m    275\u001B[0m     \u001B[0;31m# while the operation failed.\u001B[0m\u001B[0;34m\u001B[0m\u001B[0;34m\u001B[0m\u001B[0;34m\u001B[0m\u001B[0m\n",
      "\u001B[0;32m/usr/local/anaconda3/envs/earthquakes/lib/python3.7/site-packages/obspy/core/trace.py\u001B[0m in \u001B[0;36mtrim\u001B[0;34m(self, starttime, endtime, pad, nearest_sample, fill_value)\u001B[0m\n\u001B[1;32m   1176\u001B[0m         \u001B[0;32mif\u001B[0m \u001B[0mstarttime\u001B[0m\u001B[0;34m:\u001B[0m\u001B[0;34m\u001B[0m\u001B[0;34m\u001B[0m\u001B[0m\n\u001B[1;32m   1177\u001B[0m             self._ltrim(starttime, pad, nearest_sample=nearest_sample,\n\u001B[0;32m-> 1178\u001B[0;31m                         fill_value=fill_value)\n\u001B[0m\u001B[1;32m   1179\u001B[0m         \u001B[0;32mif\u001B[0m \u001B[0mendtime\u001B[0m\u001B[0;34m:\u001B[0m\u001B[0;34m\u001B[0m\u001B[0;34m\u001B[0m\u001B[0m\n\u001B[1;32m   1180\u001B[0m             self._rtrim(endtime, pad, nearest_sample=nearest_sample,\n",
      "\u001B[0;32m/usr/local/anaconda3/envs/earthquakes/lib/python3.7/site-packages/obspy/core/trace.py\u001B[0m in \u001B[0;36m_ltrim\u001B[0;34m(self, starttime, pad, nearest_sample, fill_value)\u001B[0m\n\u001B[1;32m   1051\u001B[0m         \u001B[0;32melif\u001B[0m \u001B[0mdelta\u001B[0m \u001B[0;34m>\u001B[0m \u001B[0;36m0\u001B[0m\u001B[0;34m:\u001B[0m\u001B[0;34m\u001B[0m\u001B[0;34m\u001B[0m\u001B[0m\n\u001B[1;32m   1052\u001B[0m             \u001B[0;32mtry\u001B[0m\u001B[0;34m:\u001B[0m\u001B[0;34m\u001B[0m\u001B[0;34m\u001B[0m\u001B[0m\n\u001B[0;32m-> 1053\u001B[0;31m                 \u001B[0mself\u001B[0m\u001B[0;34m.\u001B[0m\u001B[0mdata\u001B[0m \u001B[0;34m=\u001B[0m \u001B[0mself\u001B[0m\u001B[0;34m.\u001B[0m\u001B[0mdata\u001B[0m\u001B[0;34m[\u001B[0m\u001B[0mdelta\u001B[0m\u001B[0;34m:\u001B[0m\u001B[0;34m]\u001B[0m\u001B[0;34m\u001B[0m\u001B[0;34m\u001B[0m\u001B[0m\n\u001B[0m\u001B[1;32m   1054\u001B[0m             \u001B[0;32mexcept\u001B[0m \u001B[0mIndexError\u001B[0m\u001B[0;34m:\u001B[0m\u001B[0;34m\u001B[0m\u001B[0;34m\u001B[0m\u001B[0m\n\u001B[1;32m   1055\u001B[0m                 \u001B[0;31m# a huge numbers for delta raises an IndexError\u001B[0m\u001B[0;34m\u001B[0m\u001B[0;34m\u001B[0m\u001B[0;34m\u001B[0m\u001B[0m\n",
      "\u001B[0;32m/usr/local/anaconda3/envs/earthquakes/lib/python3.7/site-packages/obspy/core/trace.py\u001B[0m in \u001B[0;36m__setattr__\u001B[0;34m(self, key, value)\u001B[0m\n\u001B[1;32m    473\u001B[0m             \u001B[0;32mif\u001B[0m \u001B[0mself\u001B[0m\u001B[0;34m.\u001B[0m\u001B[0m_always_contiguous\u001B[0m\u001B[0;34m:\u001B[0m\u001B[0;34m\u001B[0m\u001B[0;34m\u001B[0m\u001B[0m\n\u001B[1;32m    474\u001B[0m                 \u001B[0mvalue\u001B[0m \u001B[0;34m=\u001B[0m \u001B[0mnp\u001B[0m\u001B[0;34m.\u001B[0m\u001B[0mrequire\u001B[0m\u001B[0;34m(\u001B[0m\u001B[0mvalue\u001B[0m\u001B[0;34m,\u001B[0m \u001B[0mrequirements\u001B[0m\u001B[0;34m=\u001B[0m\u001B[0;34m[\u001B[0m\u001B[0;34m'C_CONTIGUOUS'\u001B[0m\u001B[0;34m]\u001B[0m\u001B[0;34m)\u001B[0m\u001B[0;34m\u001B[0m\u001B[0;34m\u001B[0m\u001B[0m\n\u001B[0;32m--> 475\u001B[0;31m             \u001B[0mself\u001B[0m\u001B[0;34m.\u001B[0m\u001B[0mstats\u001B[0m\u001B[0;34m.\u001B[0m\u001B[0mnpts\u001B[0m \u001B[0;34m=\u001B[0m \u001B[0mlen\u001B[0m\u001B[0;34m(\u001B[0m\u001B[0mvalue\u001B[0m\u001B[0;34m)\u001B[0m\u001B[0;34m\u001B[0m\u001B[0;34m\u001B[0m\u001B[0m\n\u001B[0m\u001B[1;32m    476\u001B[0m         \u001B[0;32mreturn\u001B[0m \u001B[0msuper\u001B[0m\u001B[0;34m(\u001B[0m\u001B[0mTrace\u001B[0m\u001B[0;34m,\u001B[0m \u001B[0mself\u001B[0m\u001B[0;34m)\u001B[0m\u001B[0;34m.\u001B[0m\u001B[0m__setattr__\u001B[0m\u001B[0;34m(\u001B[0m\u001B[0mkey\u001B[0m\u001B[0;34m,\u001B[0m \u001B[0mvalue\u001B[0m\u001B[0;34m)\u001B[0m\u001B[0;34m\u001B[0m\u001B[0;34m\u001B[0m\u001B[0m\n\u001B[1;32m    477\u001B[0m \u001B[0;34m\u001B[0m\u001B[0m\n",
      "\u001B[0;32m/usr/local/anaconda3/envs/earthquakes/lib/python3.7/site-packages/obspy/core/trace.py\u001B[0m in \u001B[0;36m__setitem__\u001B[0;34m(self, key, value)\u001B[0m\n\u001B[1;32m    206\u001B[0m             \u001B[0;32melse\u001B[0m\u001B[0;34m:\u001B[0m\u001B[0;34m\u001B[0m\u001B[0;34m\u001B[0m\u001B[0m\n\u001B[1;32m    207\u001B[0m                 \u001B[0mtimediff\u001B[0m \u001B[0;34m=\u001B[0m \u001B[0mfloat\u001B[0m\u001B[0;34m(\u001B[0m\u001B[0mself\u001B[0m\u001B[0;34m.\u001B[0m\u001B[0mnpts\u001B[0m \u001B[0;34m-\u001B[0m \u001B[0;36m1\u001B[0m\u001B[0;34m)\u001B[0m \u001B[0;34m*\u001B[0m \u001B[0mdelta\u001B[0m\u001B[0;34m\u001B[0m\u001B[0;34m\u001B[0m\u001B[0m\n\u001B[0;32m--> 208\u001B[0;31m             \u001B[0mself\u001B[0m\u001B[0;34m.\u001B[0m\u001B[0m__dict__\u001B[0m\u001B[0;34m[\u001B[0m\u001B[0;34m'endtime'\u001B[0m\u001B[0;34m]\u001B[0m \u001B[0;34m=\u001B[0m \u001B[0mself\u001B[0m\u001B[0;34m.\u001B[0m\u001B[0mstarttime\u001B[0m \u001B[0;34m+\u001B[0m \u001B[0mtimediff\u001B[0m\u001B[0;34m\u001B[0m\u001B[0;34m\u001B[0m\u001B[0m\n\u001B[0m\u001B[1;32m    209\u001B[0m             \u001B[0;32mreturn\u001B[0m\u001B[0;34m\u001B[0m\u001B[0;34m\u001B[0m\u001B[0m\n\u001B[1;32m    210\u001B[0m         \u001B[0;32mif\u001B[0m \u001B[0mkey\u001B[0m \u001B[0;34m==\u001B[0m \u001B[0;34m'component'\u001B[0m\u001B[0;34m:\u001B[0m\u001B[0;34m\u001B[0m\u001B[0;34m\u001B[0m\u001B[0m\n",
      "\u001B[0;32m/usr/local/anaconda3/envs/earthquakes/lib/python3.7/site-packages/obspy/core/utcdatetime.py\u001B[0m in \u001B[0;36m__add__\u001B[0;34m(self, value)\u001B[0m\n\u001B[1;32m   1009\u001B[0m                    \"'UTCDateTime'\")\n\u001B[1;32m   1010\u001B[0m             \u001B[0;32mraise\u001B[0m \u001B[0mTypeError\u001B[0m\u001B[0;34m(\u001B[0m\u001B[0mmsg\u001B[0m\u001B[0;34m)\u001B[0m\u001B[0;34m\u001B[0m\u001B[0;34m\u001B[0m\u001B[0m\n\u001B[0;32m-> 1011\u001B[0;31m         \u001B[0;32mreturn\u001B[0m \u001B[0mUTCDateTime\u001B[0m\u001B[0;34m(\u001B[0m\u001B[0mns\u001B[0m\u001B[0;34m=\u001B[0m\u001B[0mself\u001B[0m\u001B[0;34m.\u001B[0m\u001B[0m_ns\u001B[0m \u001B[0;34m+\u001B[0m \u001B[0mint\u001B[0m\u001B[0;34m(\u001B[0m\u001B[0mround\u001B[0m\u001B[0;34m(\u001B[0m\u001B[0mvalue\u001B[0m \u001B[0;34m*\u001B[0m \u001B[0;36m1e9\u001B[0m\u001B[0;34m)\u001B[0m\u001B[0;34m)\u001B[0m\u001B[0;34m)\u001B[0m\u001B[0;34m\u001B[0m\u001B[0;34m\u001B[0m\u001B[0m\n\u001B[0m\u001B[1;32m   1012\u001B[0m \u001B[0;34m\u001B[0m\u001B[0m\n\u001B[1;32m   1013\u001B[0m     \u001B[0;32mdef\u001B[0m \u001B[0m__sub__\u001B[0m\u001B[0;34m(\u001B[0m\u001B[0mself\u001B[0m\u001B[0;34m,\u001B[0m \u001B[0mvalue\u001B[0m\u001B[0;34m)\u001B[0m\u001B[0;34m:\u001B[0m\u001B[0;34m\u001B[0m\u001B[0;34m\u001B[0m\u001B[0m\n",
      "\u001B[0;32m/usr/local/anaconda3/envs/earthquakes/lib/python3.7/site-packages/obspy/core/utcdatetime.py\u001B[0m in \u001B[0;36m__init__\u001B[0;34m(self, *args, **kwargs)\u001B[0m\n\u001B[1;32m    299\u001B[0m         \u001B[0mstrict\u001B[0m \u001B[0;34m=\u001B[0m \u001B[0mkwargs\u001B[0m\u001B[0;34m.\u001B[0m\u001B[0mpop\u001B[0m\u001B[0;34m(\u001B[0m\u001B[0;34m'strict'\u001B[0m\u001B[0;34m,\u001B[0m \u001B[0;32mTrue\u001B[0m\u001B[0;34m)\u001B[0m\u001B[0;34m\u001B[0m\u001B[0;34m\u001B[0m\u001B[0m\n\u001B[1;32m    300\u001B[0m         \u001B[0;32mif\u001B[0m \u001B[0mns\u001B[0m \u001B[0;32mis\u001B[0m \u001B[0;32mnot\u001B[0m \u001B[0;32mNone\u001B[0m\u001B[0;34m:\u001B[0m\u001B[0;34m\u001B[0m\u001B[0;34m\u001B[0m\u001B[0m\n\u001B[0;32m--> 301\u001B[0;31m             \u001B[0mself\u001B[0m\u001B[0;34m.\u001B[0m\u001B[0m_ns\u001B[0m \u001B[0;34m=\u001B[0m \u001B[0mns\u001B[0m\u001B[0;34m\u001B[0m\u001B[0;34m\u001B[0m\u001B[0m\n\u001B[0m\u001B[1;32m    302\u001B[0m             \u001B[0;32mreturn\u001B[0m\u001B[0;34m\u001B[0m\u001B[0;34m\u001B[0m\u001B[0m\n\u001B[1;32m    303\u001B[0m         \u001B[0;31m# iso8601 flag\u001B[0m\u001B[0;34m\u001B[0m\u001B[0;34m\u001B[0m\u001B[0;34m\u001B[0m\u001B[0m\n",
      "\u001B[0;32m/usr/local/anaconda3/envs/earthquakes/lib/python3.7/site-packages/obspy/core/utcdatetime.py\u001B[0m in \u001B[0;36m__setattr__\u001B[0;34m(self, key, value)\u001B[0m\n\u001B[1;32m   1272\u001B[0m             \u001B[0;31m# only issue the warning once per object\u001B[0m\u001B[0;34m\u001B[0m\u001B[0;34m\u001B[0m\u001B[0;34m\u001B[0m\u001B[0m\n\u001B[1;32m   1273\u001B[0m             \u001B[0mself\u001B[0m\u001B[0;34m.\u001B[0m\u001B[0m__dict__\u001B[0m\u001B[0;34m[\u001B[0m\u001B[0;34m'_has_warned'\u001B[0m\u001B[0;34m]\u001B[0m \u001B[0;34m=\u001B[0m \u001B[0;32mTrue\u001B[0m\u001B[0;34m\u001B[0m\u001B[0;34m\u001B[0m\u001B[0m\n\u001B[0;32m-> 1274\u001B[0;31m         \u001B[0msuper\u001B[0m\u001B[0;34m(\u001B[0m\u001B[0mUTCDateTime\u001B[0m\u001B[0;34m,\u001B[0m \u001B[0mself\u001B[0m\u001B[0;34m)\u001B[0m\u001B[0;34m.\u001B[0m\u001B[0m__setattr__\u001B[0m\u001B[0;34m(\u001B[0m\u001B[0mkey\u001B[0m\u001B[0;34m,\u001B[0m \u001B[0mvalue\u001B[0m\u001B[0;34m)\u001B[0m\u001B[0;34m\u001B[0m\u001B[0;34m\u001B[0m\u001B[0m\n\u001B[0m\u001B[1;32m   1275\u001B[0m \u001B[0;34m\u001B[0m\u001B[0m\n\u001B[1;32m   1276\u001B[0m     \u001B[0;32mdef\u001B[0m \u001B[0mstrftime\u001B[0m\u001B[0;34m(\u001B[0m\u001B[0mself\u001B[0m\u001B[0;34m,\u001B[0m \u001B[0mformat\u001B[0m\u001B[0;34m)\u001B[0m\u001B[0;34m:\u001B[0m\u001B[0;34m\u001B[0m\u001B[0;34m\u001B[0m\u001B[0m\n",
      "\u001B[0;32m/usr/local/anaconda3/envs/earthquakes/lib/python3.7/site-packages/obspy/core/utcdatetime.py\u001B[0m in \u001B[0;36m_set_ns\u001B[0;34m(self, value)\u001B[0m\n\u001B[1;32m    540\u001B[0m         \u001B[0mself\u001B[0m\u001B[0;34m.\u001B[0m\u001B[0m__ns\u001B[0m \u001B[0;34m=\u001B[0m \u001B[0mvalue\u001B[0m\u001B[0;34m\u001B[0m\u001B[0;34m\u001B[0m\u001B[0m\n\u001B[1;32m    541\u001B[0m         \u001B[0;31m# flag that this instance has been initialized; any changes will warn\u001B[0m\u001B[0;34m\u001B[0m\u001B[0;34m\u001B[0m\u001B[0;34m\u001B[0m\u001B[0m\n\u001B[0;32m--> 542\u001B[0;31m         \u001B[0mself\u001B[0m\u001B[0;34m.\u001B[0m\u001B[0m_initialized\u001B[0m \u001B[0;34m=\u001B[0m \u001B[0;32mTrue\u001B[0m\u001B[0;34m\u001B[0m\u001B[0;34m\u001B[0m\u001B[0m\n\u001B[0m\u001B[1;32m    543\u001B[0m \u001B[0;34m\u001B[0m\u001B[0m\n\u001B[1;32m    544\u001B[0m     \u001B[0m_ns\u001B[0m \u001B[0;34m=\u001B[0m \u001B[0mproperty\u001B[0m\u001B[0;34m(\u001B[0m\u001B[0m_get_ns\u001B[0m\u001B[0;34m,\u001B[0m \u001B[0m_set_ns\u001B[0m\u001B[0;34m)\u001B[0m\u001B[0;34m\u001B[0m\u001B[0;34m\u001B[0m\u001B[0m\n",
      "\u001B[0;32m/usr/local/anaconda3/envs/earthquakes/lib/python3.7/site-packages/obspy/core/utcdatetime.py\u001B[0m in \u001B[0;36m__setattr__\u001B[0;34m(self, key, value)\u001B[0m\n\u001B[1;32m   1272\u001B[0m             \u001B[0;31m# only issue the warning once per object\u001B[0m\u001B[0;34m\u001B[0m\u001B[0;34m\u001B[0m\u001B[0;34m\u001B[0m\u001B[0m\n\u001B[1;32m   1273\u001B[0m             \u001B[0mself\u001B[0m\u001B[0;34m.\u001B[0m\u001B[0m__dict__\u001B[0m\u001B[0;34m[\u001B[0m\u001B[0;34m'_has_warned'\u001B[0m\u001B[0;34m]\u001B[0m \u001B[0;34m=\u001B[0m \u001B[0;32mTrue\u001B[0m\u001B[0;34m\u001B[0m\u001B[0;34m\u001B[0m\u001B[0m\n\u001B[0;32m-> 1274\u001B[0;31m         \u001B[0msuper\u001B[0m\u001B[0;34m(\u001B[0m\u001B[0mUTCDateTime\u001B[0m\u001B[0;34m,\u001B[0m \u001B[0mself\u001B[0m\u001B[0;34m)\u001B[0m\u001B[0;34m.\u001B[0m\u001B[0m__setattr__\u001B[0m\u001B[0;34m(\u001B[0m\u001B[0mkey\u001B[0m\u001B[0;34m,\u001B[0m \u001B[0mvalue\u001B[0m\u001B[0;34m)\u001B[0m\u001B[0;34m\u001B[0m\u001B[0;34m\u001B[0m\u001B[0m\n\u001B[0m\u001B[1;32m   1275\u001B[0m \u001B[0;34m\u001B[0m\u001B[0m\n\u001B[1;32m   1276\u001B[0m     \u001B[0;32mdef\u001B[0m \u001B[0mstrftime\u001B[0m\u001B[0;34m(\u001B[0m\u001B[0mself\u001B[0m\u001B[0;34m,\u001B[0m \u001B[0mformat\u001B[0m\u001B[0;34m)\u001B[0m\u001B[0;34m:\u001B[0m\u001B[0;34m\u001B[0m\u001B[0;34m\u001B[0m\u001B[0m\n",
      "\u001B[0;31mKeyboardInterrupt\u001B[0m: "
     ]
    }
   ],
   "source": [
    "windows = []\n",
    "sliced = []\n",
    "for trace in streams[0]:\n",
    "    start = UTCDateTime(trace.stats.starttime)\n",
    "    end = UTCDateTime(trace.stats.endtime)\n",
    "    while start + 12 < end:\n",
    "        sliced.append((trace.slice(start,start+12)))\n",
    "        start = start+3\n",
    "for aSlice in sliced:\n",
    "    window = []\n",
    "    window.append(aSlice)\n",
    "    sliced.remove(aSlice)\n",
    "    for bSlice in sliced:\n",
    "        if bSlice.stats.starttime == aSlice.stats.starttime:\n",
    "            window.append(bSlice)\n",
    "            sliced.remove(bSlice)\n",
    "    stream = obspy.core.Stream(window)\n",
    "    stream.write('.data/prepared/{}.mseed'.format(aSlice.stats.starttime), format='MSEED')\n"
   ]
  },
  {
   "cell_type": "markdown",
   "metadata": {
    "pycharm": {
     "name": "#%% md\n"
    }
   },
   "source": [
    "This following box is to run for all streams. Takes a VERY long time so be prepared!"
   ]
  },
  {
   "cell_type": "code",
   "execution_count": null,
   "metadata": {
    "collapsed": false,
    "jupyter": {
     "outputs_hidden": false
    },
    "pycharm": {
     "name": "#%%\n"
    }
   },
   "outputs": [],
   "source": [
    "for stream in streams:\n",
    "    print(stream)\n",
    "    sliced = []\n",
    "    for trace in stream:\n",
    "        start = UTCDateTime(trace.stats.starttime)\n",
    "        end = UTCDateTime(trace.stats.endtime)\n",
    "        while start + 12 < end:\n",
    "            sliced.append((trace.slice(start,start+12)))\n",
    "            start = start+3\n",
    "    print('saving {} traces'.format(traces))\n",
    "    for aSlice in sliced:\n",
    "        window = []\n",
    "        window.append(aSlice)\n",
    "        sliced.remove(aSlice)\n",
    "        for bSlice in sliced:\n",
    "            if bSlice.stats.starttime == aSlice.stats.starttime:\n",
    "                window.append(bSlice)\n",
    "                sliced.remove(bSlice)\n",
    "        stream = obspy.core.Stream(window)\n",
    "        file_name = '.data/prepared/{}.mseed'.format(aSlice.stats.starttime)\n",
    "        print('saving {}'.format(file_name))\n",
    "        stream.write(file_name, format='MSEED')"
   ]
  },
  {
   "cell_type": "code",
   "execution_count": 2,
   "metadata": {
    "pycharm": {
     "is_executing": true
    }
   },
   "outputs": [],
   "source": [
    "files = os.listdir('.data/prepared/')"
   ]
  },
  {
   "cell_type": "code",
   "execution_count": null,
   "outputs": [],
   "source": [
    "len(files)"
   ],
   "metadata": {
    "collapsed": false,
    "pycharm": {
     "name": "#%%\n"
    }
   }
  },
  {
   "cell_type": "code",
   "execution_count": null,
   "outputs": [],
   "source": [
    "st = read(os.path.join('.data/prepared', files[5988668]))\n",
    "st"
   ],
   "metadata": {
    "collapsed": false,
    "pycharm": {
     "name": "#%%\n"
    }
   }
  },
  {
   "cell_type": "code",
   "execution_count": 3,
   "metadata": {},
   "outputs": [
    {
     "data": {
      "text/plain": [
       "5988669"
      ]
     },
     "execution_count": 3,
     "metadata": {},
     "output_type": "execute_result"
    }
   ],
   "source": []
  },
  {
   "cell_type": "code",
   "execution_count": 8,
   "metadata": {},
   "outputs": [
    {
     "data": {
      "text/plain": [
       "3 Trace(s) in Stream:\n",
       "XB.ELYSE.02.BHU | 2019-10-14T04:44:50.680000Z - 2019-10-14T04:45:02.680000Z | 20.0 Hz, 241 samples\n",
       "XB.ELYSE.02.BHV | 2019-10-14T04:44:50.680000Z - 2019-10-14T04:45:02.680000Z | 20.0 Hz, 241 samples\n",
       "XB.ELYSE.02.BHW | 2019-10-14T04:44:50.680000Z - 2019-10-14T04:45:02.680000Z | 20.0 Hz, 241 samples"
      ]
     },
     "execution_count": 8,
     "metadata": {},
     "output_type": "execute_result"
    }
   ],
   "source": [
    "st = read(os.path.join('.data/prepared', files[5988668]))\n",
    "st"
   ]
  },
  {
   "cell_type": "code",
   "execution_count": 11,
   "metadata": {},
   "outputs": [
    {
     "name": "stdout",
     "output_type": "stream",
     "text": [
      "[    0.       137.9125  1165.825    806.7375  2213.65     727.5625\n",
      "   617.475   1617.3875  1194.3     1918.2125  1177.125   1522.0375\n",
      "  1594.95     469.8625  1904.775    736.6875   357.6     2241.5125\n",
      "   799.425   1296.3375  1345.25    -171.8375   167.075    327.9875\n",
      "   904.9      589.8125  1640.725   2336.6375   677.55    1569.4625\n",
      "  1698.375    165.2875  1449.2     2786.1125   882.025    229.9375\n",
      "  1046.85     604.7625  1680.675   1330.5875    19.5     1309.4125\n",
      "  2018.325   1628.2375   785.15    1256.0625  1493.975     38.8875\n",
      "   691.8     1234.7125  1126.625   1442.5375   416.45     522.3625\n",
      "  1547.275   1344.1875   766.1       15.0125   828.925   2165.8375\n",
      "   945.75     174.6625   853.575    750.4875   126.4     1116.3125\n",
      "  1574.225    448.1375   992.05    1061.9625  1560.875   2338.7875\n",
      "  1309.7      102.6125  -468.475   1630.4375  2652.35     700.2625\n",
      "   663.175    493.0875  -907.       610.9125  2051.825   1578.7375\n",
      "  1171.65     253.5625  1080.475   1802.3875   935.3      934.2125\n",
      "   577.125   1123.0375  1571.95     -13.1375  -260.225    226.6875\n",
      "   967.6     2310.5125  1745.425    -82.6625   268.25    2294.1625\n",
      "   322.075    -53.0125  1854.9     -485.1875   448.725   1832.6375\n",
      "   -23.45     870.4625  1333.375    744.2875   716.2       76.1125\n",
      "  1011.025   1041.9375   438.85    1406.7625   788.675   -644.4125\n",
      "   849.5     2561.4125   372.325   1154.2375   667.15   -1437.9375\n",
      "  2183.975   1150.8875  1097.8     2741.7125  -966.375    238.5375\n",
      "  1579.45     726.3625   298.275   -716.8125   667.1      509.0125\n",
      "   351.925   -210.1625 -1941.25    1055.6625  2204.575   -149.5125\n",
      "   732.4      742.3125  2676.225   4214.1375 -1536.95      74.9625\n",
      "  3624.875  -1415.2125  -764.3     1650.6125  -326.475  -1268.5625\n",
      "  -314.65    1724.2625   786.175   -306.9125  3453.      5767.9125\n",
      "  1948.825   -827.2625  2022.65    1812.5625   356.475     14.3875\n",
      "  -527.7     1227.2125  -281.875   2318.0375  3197.95   -1295.1375\n",
      "   724.775    927.6875  -941.4     1655.5125  1577.425  -1473.6625\n",
      "   128.25    1362.1625   941.075   1134.9875   914.9     1077.8125\n",
      "  -365.275   2372.6375  3672.55    -811.5375    51.375    807.2875\n",
      " -2005.8     -400.8875  2682.025   1117.9375    57.85     291.7625\n",
      "  1447.675   2694.5875   456.5     1139.4125 -1932.675  -2413.7625\n",
      "  5043.15    1807.0625 -1918.025   -343.1125 -1129.2     1019.7125\n",
      "  1478.625   1084.5375 -1174.55   -2772.6375  5212.275   3242.1875\n",
      " -2871.9     1456.0125  -814.075   -128.1625  4375.75    -379.3375\n",
      "  -588.425    900.4875  -958.6     1048.3125  1163.225    -83.8625\n",
      " -1402.95   -2115.0375  2374.875   1665.7875 -1845.3     -119.3875\n",
      "  -753.475   -452.5625  2127.35     931.2625  -468.825    345.0875\n",
      "     0.    ]\n"
     ]
    }
   ],
   "source": []
  },
  {
   "cell_type": "code",
   "execution_count": null,
   "metadata": {},
   "outputs": [],
   "source": []
  }
 ],
 "metadata": {
  "kernelspec": {
   "display_name": "PyCharm (earthquake)",
   "language": "python",
   "name": "pycharm-adbef929"
  },
  "language_info": {
   "codemirror_mode": {
    "name": "ipython",
    "version": 3
   },
   "file_extension": ".py",
   "mimetype": "text/x-python",
   "name": "python",
   "nbconvert_exporter": "python",
   "pygments_lexer": "ipython3",
   "version": "3.7.7"
  }
 },
 "nbformat": 4,
 "nbformat_minor": 4
}